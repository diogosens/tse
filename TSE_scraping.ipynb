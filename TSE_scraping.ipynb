{
 "cells": [
  {
   "cell_type": "code",
   "execution_count": 1,
   "id": "02e38e61",
   "metadata": {},
   "outputs": [],
   "source": [
    "# libraries\n",
    "\n",
    "from urllib.request import urlopen\n",
    "from bs4 import BeautifulSoup"
   ]
  },
  {
   "cell_type": "code",
   "execution_count": 16,
   "id": "d6543b3d",
   "metadata": {},
   "outputs": [],
   "source": [
    "# functions\n",
    "\n",
    "def creating_BeautifulSoup(url):\n",
    "    response = urlopen(url)\n",
    "    html = response.read()\n",
    "    soup = BeautifulSoup(html, 'html.parser')\n",
    "    return soup\n",
    "\n",
    "def getting_hyperlinks(url, soup):\n",
    "    url_list = []\n",
    "    for item in soup.find_all('a'):\n",
    "        if item.get('href') != None: \n",
    "            if item.get('href')[:4] == 'http':\n",
    "                url_list.append(item.get('href'))\n",
    "            if  item.get('href')[0] == '/':\n",
    "                url_list.append(url + item.get('href'))\n",
    "        \n",
    "    url_list = list(set(url_list)) #removing repeated links\n",
    "    return url_list"
   ]
  },
  {
   "cell_type": "code",
   "execution_count": 5,
   "id": "f84f9ff5",
   "metadata": {},
   "outputs": [],
   "source": [
    "# creating a BeautifulSoup object from main page\n",
    "\n",
    "main_page_url = 'https://dadosabertos.tse.jus.br'\n",
    "soup = creating_BeautifulSoup(main_page_url)"
   ]
  },
  {
   "cell_type": "code",
   "execution_count": 10,
   "id": "087f9d07",
   "metadata": {},
   "outputs": [],
   "source": [
    "#getting urls from main page\n",
    "\n",
    "main_page_urls = getting_hyperlinks(main_page_url, soup)"
   ]
  },
  {
   "cell_type": "code",
   "execution_count": 12,
   "id": "aee428aa",
   "metadata": {},
   "outputs": [],
   "source": [
    "# getting datasets' url\n",
    "\n",
    "for url in main_page_urls:\n",
    "    if url[-8:] == 'dataset/':\n",
    "        datasets_url = url"
   ]
  },
  {
   "cell_type": "code",
   "execution_count": 13,
   "id": "d7c3f307",
   "metadata": {},
   "outputs": [],
   "source": [
    "# creating a BeautifulSoup object from datasets' page\n",
    "\n",
    "soup = creating_BeautifulSoup(datasets_url)"
   ]
  },
  {
   "cell_type": "code",
   "execution_count": 34,
   "id": "a84b3c30",
   "metadata": {},
   "outputs": [],
   "source": [
    "# getting datasets number of pages\n",
    "\n",
    "for item in soup.find('ul', {'class': 'pagination'}).find_all('a'):\n",
    "    if item.get_text().isnumeric():\n",
    "        max_page_number = int(item.get_text())\n"
   ]
  },
  {
   "cell_type": "code",
   "execution_count": 35,
   "id": "508927e7",
   "metadata": {},
   "outputs": [],
   "source": [
    "#getting urls from all datasets' page\n",
    "\n",
    "datasets_page_urls = []\n",
    "for i in range(max_page_number):\n",
    "    soup = creating_BeautifulSoup(datasets_url + \"?page=\" + str(i + 1))\n",
    "    datasets_page_urls += getting_hyperlinks(main_page_url, soup)"
   ]
  },
  {
   "cell_type": "code",
   "execution_count": 44,
   "id": "2b58f177",
   "metadata": {},
   "outputs": [],
   "source": [
    "# getting the dataset years\n",
    "\n",
    "years = []\n",
    "\n",
    "for url in datasets_page_urls:\n",
    "    if url[-4:].isnumeric():\n",
    "        years.append(int(url[-4:]))\n",
    "years = list(set(years))"
   ]
  },
  {
   "cell_type": "code",
   "execution_count": 45,
   "id": "7d9a7a3a",
   "metadata": {},
   "outputs": [
    {
     "data": {
      "text/plain": [
       "[1933,\n",
       " 1934,\n",
       " 1945,\n",
       " 1947,\n",
       " 1950,\n",
       " 1954,\n",
       " 1955,\n",
       " 1958,\n",
       " 1960,\n",
       " 1962,\n",
       " 1965,\n",
       " 1966,\n",
       " 1970,\n",
       " 1974,\n",
       " 1978,\n",
       " 1982,\n",
       " 1986,\n",
       " 1989,\n",
       " 1990,\n",
       " 1994,\n",
       " 1996,\n",
       " 1998,\n",
       " 2000,\n",
       " 2002,\n",
       " 2004,\n",
       " 2006,\n",
       " 2008,\n",
       " 2010,\n",
       " 2012,\n",
       " 2014,\n",
       " 2015,\n",
       " 2016,\n",
       " 2017,\n",
       " 2018,\n",
       " 2019,\n",
       " 2020,\n",
       " 2021]"
      ]
     },
     "execution_count": 45,
     "metadata": {},
     "output_type": "execute_result"
    }
   ],
   "source": [
    "years"
   ]
  },
  {
   "cell_type": "code",
   "execution_count": 51,
   "id": "a2bef268",
   "metadata": {},
   "outputs": [],
   "source": [
    "# getting the datasets groups\n",
    "\n",
    "groups = []\n",
    "for url in datasets_page_urls:\n",
    "    if 'groups' in url:\n",
    "        groups.append(url.split('=')[-1])\n",
    "\n",
    "groups = list(set(groups))"
   ]
  },
  {
   "cell_type": "code",
   "execution_count": 52,
   "id": "e09bf0f3",
   "metadata": {},
   "outputs": [
    {
     "data": {
      "text/plain": [
       "['partidos',\n",
       " 'pesquisas-eleitorais',\n",
       " 'resultados',\n",
       " 'prestacao-de-contas-eleitorais',\n",
       " 'processual',\n",
       " 'mesarios',\n",
       " 'eleitorado',\n",
       " 'candidatos',\n",
       " 'comparecimento-e-abstencao',\n",
       " 'prestacao-de-contas-partidarias']"
      ]
     },
     "execution_count": 52,
     "metadata": {},
     "output_type": "execute_result"
    }
   ],
   "source": [
    "groups"
   ]
  },
  {
   "cell_type": "code",
   "execution_count": 53,
   "id": "10ffacdc",
   "metadata": {},
   "outputs": [
    {
     "data": {
      "text/plain": [
       "10"
      ]
     },
     "execution_count": 53,
     "metadata": {},
     "output_type": "execute_result"
    }
   ],
   "source": [
    "len(groups)"
   ]
  },
  {
   "cell_type": "code",
   "execution_count": 59,
   "id": "defa918c",
   "metadata": {},
   "outputs": [
    {
     "name": "stdout",
     "output_type": "stream",
     "text": [
      "https://dadosabertos.tse.jus.br/dataset/resultados-1933\n",
      "https://dadosabertos.tse.jus.br/dataset/resultados-1986\n",
      "https://dadosabertos.tse.jus.br/dataset/resultados-1958\n",
      "https://dadosabertos.tse.jus.br/dataset/resultados-1990\n",
      "https://dadosabertos.tse.jus.br/dataset/resultados-1947\n",
      "https://dadosabertos.tse.jus.br/dataset/resultados-1965\n",
      "https://dadosabertos.tse.jus.br/dataset/resultados-1962\n",
      "https://dadosabertos.tse.jus.br/dataset/resultados-1950\n",
      "https://dadosabertos.tse.jus.br/dataset/resultados-1960\n",
      "https://dadosabertos.tse.jus.br/dataset/resultados-1989\n",
      "https://dadosabertos.tse.jus.br/dataset/resultados-1978\n",
      "https://dadosabertos.tse.jus.br/dataset/resultados-1966\n",
      "https://dadosabertos.tse.jus.br/dataset/resultados-1982\n",
      "https://dadosabertos.tse.jus.br/dataset/resultados-1954\n",
      "https://dadosabertos.tse.jus.br/dataset/resultados-1994\n",
      "https://dadosabertos.tse.jus.br/dataset/resultados-1945\n",
      "https://dadosabertos.tse.jus.br/dataset/resultados-1974\n",
      "https://dadosabertos.tse.jus.br/dataset/resultados-1998\n",
      "https://dadosabertos.tse.jus.br/dataset/resultados-1955\n",
      "https://dadosabertos.tse.jus.br/dataset/resultados-1996\n",
      "https://dadosabertos.tse.jus.br/dataset/resultados-1934\n",
      "https://dadosabertos.tse.jus.br/dataset/resultados-2014-correspondencias-esperadas-e-efetivadas-1-turno\n",
      "https://dadosabertos.tse.jus.br/dataset/resultados-2008\n",
      "https://dadosabertos.tse.jus.br/dataset/resultados-2014-boletim-de-urna\n",
      "https://dadosabertos.tse.jus.br/dataset/resultados-2016-correspondencias-esperadas-e-efetivadas-1-turno\n",
      "https://dadosabertos.tse.jus.br/dataset/resultados-2016-boletim-de-urna\n",
      "https://dadosabertos.tse.jus.br/dataset/resultados-2014-correspondencias-esperadas-e-efetivadas-2-turno\n",
      "https://dadosabertos.tse.jus.br/dataset/resultados-2000\n",
      "https://dadosabertos.tse.jus.br/dataset/resultados-2004\n",
      "https://dadosabertos.tse.jus.br/dataset/resultados-2018\n",
      "https://dadosabertos.tse.jus.br/dataset/resultados-2012\n",
      "https://dadosabertos.tse.jus.br/dataset/resultados-2002\n",
      "https://dadosabertos.tse.jus.br/dataset/resultados-2012-correspondencias-esperadas-e-efetivadas-2-turno\n",
      "https://dadosabertos.tse.jus.br/dataset/resultados-2012-correspondencias-esperadas-efetivadas-1-turno\n",
      "https://dadosabertos.tse.jus.br/dataset/resultados-2014\n",
      "https://dadosabertos.tse.jus.br/dataset/resultados-2006\n",
      "https://dadosabertos.tse.jus.br/dataset/resultados-2010\n",
      "https://dadosabertos.tse.jus.br/dataset/resultados-2012-boletim-de-urna-1-turno\n",
      "https://dadosabertos.tse.jus.br/dataset/resultados-2018-boletim-de-urna\n",
      "https://dadosabertos.tse.jus.br/dataset/resultados-2016-correspondencias-esperadas-e-efetivadas-2-turno\n",
      "https://dadosabertos.tse.jus.br/dataset/resultados-2016\n",
      "https://dadosabertos.tse.jus.br/dataset/resultados-2020-boletim-de-urna\n",
      "https://dadosabertos.tse.jus.br/dataset/resultados-2018-correspondencias-esperadas-e-efetivadas-1-turno\n",
      "https://dadosabertos.tse.jus.br/dataset/resultados-2020\n",
      "https://dadosabertos.tse.jus.br/dataset/resultados-2020-correspondencias-esperadas-e-efetivadas-2-turno\n",
      "https://dadosabertos.tse.jus.br/dataset/resultados-2020-correspondencias-esperadas-e-efetivadas-1-turno\n",
      "https://dadosabertos.tse.jus.br/dataset/resultados-2018-correspondencias-esperadas-e-efetivadas-2-turno\n"
     ]
    }
   ],
   "source": [
    "for url in datasets_page_urls:\n",
    "    if groups[2] in url and '?' not in url:\n",
    "        print(url)"
   ]
  },
  {
   "cell_type": "code",
   "execution_count": 56,
   "id": "0a2dbd17",
   "metadata": {},
   "outputs": [
    {
     "data": {
      "text/plain": [
       "37"
      ]
     },
     "execution_count": 56,
     "metadata": {},
     "output_type": "execute_result"
    }
   ],
   "source": [
    "len(years)"
   ]
  },
  {
   "cell_type": "code",
   "execution_count": null,
   "id": "8b3e5e63",
   "metadata": {},
   "outputs": [],
   "source": []
  }
 ],
 "metadata": {
  "kernelspec": {
   "display_name": "Python 3 (ipykernel)",
   "language": "python",
   "name": "python3"
  },
  "language_info": {
   "codemirror_mode": {
    "name": "ipython",
    "version": 3
   },
   "file_extension": ".py",
   "mimetype": "text/x-python",
   "name": "python",
   "nbconvert_exporter": "python",
   "pygments_lexer": "ipython3",
   "version": "3.9.7"
  }
 },
 "nbformat": 4,
 "nbformat_minor": 5
}
